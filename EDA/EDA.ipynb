{
 "cells": [
  {
   "cell_type": "code",
   "execution_count": 13,
   "metadata": {},
   "outputs": [],
   "source": [
    "from glob import glob\n",
    "import pandas as pd\n",
    "import numpy as np\n",
    "import matplotlib.pyplot as plt\n",
    "import seaborn as sns\n",
    "sns.set()\n",
    "plt.rcParams['axes.grid'] = False\n",
    "\n",
    "import json\n",
    "import os\n",
    "import cv2\n",
    "import random\n",
    "\n",
    "import warnings\n",
    "warnings.filterwarnings(action='ignore')\n",
    "\n",
    "\n",
    "######### 데이터 경로 #########\n",
    "data_path = ''"
   ]
  },
  {
   "cell_type": "code",
   "execution_count": 14,
   "metadata": {},
   "outputs": [],
   "source": [
    "# EDA하기 쉽게 DataFrame 형식으로 변환\n",
    "def json_to_dataframe(data_path):\n",
    "    df = pd.DataFrame(columns=['part','oil','sensitive','pigmentation','wrinkle','hydration','file_name'])\n",
    "    for anno in glob(os.path.join(data_path,'*.json')):\n",
    "        with open(anno) as f:\n",
    "            sample = json.load(f)\n",
    "        \n",
    "        df = df.append(sample,ignore_index=True)\n",
    "        \n",
    "    return df\n",
    "\n",
    "# 부위별 피부 평가 항목 분포\n",
    "def eval_count(df,part_number:int=None):\n",
    "    eval_list = ['oil','sensitive','pigmentation','wrinkle','hydration']\n",
    "\n",
    "    if part_number is None:\n",
    "        part_df = df.copy()\n",
    "    else:\n",
    "        part_df = df[df['part'] == part_number]\n",
    "    \n",
    "    plt.figure(figsize=(20,10))\n",
    "    for i in range(5):\n",
    "        plt.subplot(1,5,i+1)\n",
    "        ax = plt.gca()\n",
    "        ax.set_ylabel(' ',fontsize=0)\n",
    "        item = eval_list[i]\n",
    "        sns.barplot(part_df[item].value_counts().keys(),part_df[item].value_counts())\n",
    "\n",
    "\n",
    "# 특정 부위의 항목별 비교\n",
    "def item_comp(df,part_number:int=None):\n",
    "    plt.figure(figsize=(50,150))\n",
    "    eval_list = ['oil','sensitive','pigmentation','wrinkle','hydration']\n",
    "    rotation = 1\n",
    "\n",
    "    if part_number is None:\n",
    "        part_df = df.copy()\n",
    "    else:\n",
    "        part_df = df[df['part'] == part_number]\n",
    "\n",
    "    for item in eval_list:\n",
    "        if -2 in part_df[item]:\n",
    "            continue\n",
    "        \n",
    "        for score in range(5):\n",
    "            score_df = part_df[part_df[item] == score]\n",
    "\n",
    "            if len(score_df) > 3:\n",
    "                idx = 3\n",
    "            else:\n",
    "                idx = len(score_df)\n",
    "            for i in range(idx):\n",
    "                sample = score_df.iloc[i]\n",
    "                file_name = sample['file_name']\n",
    "                image = cv2.imread(os.path.join(data_path,file_name))\n",
    "                image = cv2.cvtColor(image, cv2.COLOR_BGR2RGB)\n",
    "                \n",
    "                plt.subplot(25,3,rotation)\n",
    "                rotation += 1\n",
    "                if idx < 3 and i == (3-idx):\n",
    "                    rotation += 1\n",
    "                plt.title(item + ' ' + str(score),fontsize=25)\n",
    "                plt.axis(\"off\")\n",
    "                plt.imshow(image)"
   ]
  },
  {
   "cell_type": "code",
   "execution_count": 15,
   "metadata": {},
   "outputs": [],
   "source": [
    "df = json_to_dataframe(data_path)"
   ]
  },
  {
   "cell_type": "code",
   "execution_count": null,
   "metadata": {},
   "outputs": [],
   "source": [
    "df"
   ]
  },
  {
   "cell_type": "code",
   "execution_count": null,
   "metadata": {},
   "outputs": [],
   "source": [
    "# 부위별 상관관계\n",
    "colormap = plt.cm.PuBu\n",
    "plt.figure(figsize=(15,15))\n",
    "\n",
    "\n",
    "for i in range(4):\n",
    "    plt.subplot(2,2,i+1)\n",
    "    corr_df = df[df['part']==i]\n",
    "    corr = corr_df.iloc[:,1:6].astype(float).corr(method='spearman',min_periods=1)\n",
    "    sns.heatmap(corr, linewidths = 0.1, vmax = 1.0, square = True, cmap = colormap, linecolor = \"white\", annot = True, annot_kws = {\"size\" : 16})\n",
    "    plt.savefig('train_part_corr.png',dpi=200)\n"
   ]
  },
  {
   "cell_type": "code",
   "execution_count": null,
   "metadata": {},
   "outputs": [],
   "source": [
    "# 부위별 피부 평가 항목 분포\n",
    "eval_count(df,2)"
   ]
  },
  {
   "cell_type": "code",
   "execution_count": null,
   "metadata": {},
   "outputs": [],
   "source": [
    "# 해당 부위의 항목별 비교\n",
    "item_comp(df,2)"
   ]
  },
  {
   "cell_type": "code",
   "execution_count": null,
   "metadata": {},
   "outputs": [],
   "source": [
    "import json\n",
    "import random\n",
    "import skimage.io as io\n",
    "\n",
    "from pycocotools.coco import COCO\n",
    "\n",
    "def getClassName(classID, cats):\n",
    "    for i in range(len(cats)):\n",
    "        if cats[i]['id']==classID:\n",
    "            return cats[i]['name']\n",
    "    return \"None\"\n",
    "\n",
    "#### 이미지가 담겨 있는 디렉토리 경로 ####\n",
    "img_dir = '/opt/ml/atlab/naverboostcamp_train/'\n",
    "\n",
    "####### annotation 파일 경로 ########\n",
    "anno_filepath = '/opt/ml/atlab/naverboostcamp_train/annotations.json'\n",
    "\n",
    "\n",
    "#### annotation 파일 초기화 ####\n",
    "coco = COCO(anno_filepath)"
   ]
  },
  {
   "cell_type": "code",
   "execution_count": null,
   "metadata": {},
   "outputs": [],
   "source": [
    "# annotation의 category 목록 확인\n",
    "cats = coco.loadCats(coco.getCatIds())\n",
    "cat_list = [cat['name'] for cat in cats]\n",
    "print('카테고리 목록 : \\n',set(cat_list))\n",
    "\n",
    "supercat_list = [cat['supercategory'] for cat in cats]\n",
    "print('슈퍼 카테고리 목록 : \\n',set(supercat_list))"
   ]
  },
  {
   "cell_type": "code",
   "execution_count": 217,
   "metadata": {},
   "outputs": [],
   "source": [
    "# 이미지에 포함되는 category 선택\n",
    "# 'acne', 'smallacne', 'troub', '_background_'\n",
    "# 여러개도 가능\n",
    "catIds = coco.getCatIds(catNms=['troub'])\n",
    "\n",
    "# 특정 category를 포함하는 image id list 얻기\n",
    "imgIds = coco.getImgIds(catIds=catIds)\n",
    "\n",
    "# image id list에서 무작위 id 선택\n",
    "random_img_id = random.choice(imgIds)\n",
    "\n",
    "# 선택한 id에 맞는 image 불러오기\n",
    "imgId = coco.getImgIds(imgIds = [random_img_id])\n",
    "img = coco.loadImgs(imgId)[0]\n",
    "\n",
    "# image에 맞는 annotation 불러오기\n",
    "annIds = coco.getAnnIds(imgIds=imgId,catIds=catIds,iscrowd=None)\n",
    "anns = coco.loadAnns(annIds)"
   ]
  },
  {
   "cell_type": "code",
   "execution_count": null,
   "metadata": {},
   "outputs": [],
   "source": [
    "# image 확인\n",
    "I = io.imread(img_dir + '/' + img['file_name'])\n",
    "\n",
    "plt.figure(figsize=(10,10))\n",
    "plt.subplot(1,2,1)\n",
    "plt.imshow(I); plt.axis('off')\n",
    "coco.showAnns(anns,draw_bbox=False)\n",
    "\n",
    "plt.subplot(1,2,2)\n",
    "plt.imshow(I)"
   ]
  },
  {
   "cell_type": "code",
   "execution_count": null,
   "metadata": {},
   "outputs": [],
   "source": [
    "# image\n",
    "I = io.imread(img_dir + '/' + img['file_name'])\n",
    "\n",
    "# mask\n",
    "mask = np.zeros((img['height'],img['width']))\n",
    "for i in range(len(anns)):\n",
    "    className = getClassName(anns[i]['category_id'], cats)\n",
    "    pixel_value = cat_list.index(className)+1\n",
    "    mask = np.maximum(coco.annToMask(anns[i])*pixel_value, mask)\n",
    "\n",
    "# show image\n",
    "plt.figure(figsize=(10,10))\n",
    "\n",
    "plt.subplot(2,1,1)\n",
    "plt.imshow(I)\n",
    "plt.axis('off')\n",
    "coco.showAnns(anns,draw_bbox=True)\n",
    "\n",
    "plt.subplot(2,1,2)\n",
    "plt.imshow(mask)\n",
    "plt.axis('off')"
   ]
  },
  {
   "cell_type": "code",
   "execution_count": null,
   "metadata": {},
   "outputs": [],
   "source": []
  }
 ],
 "metadata": {
  "interpreter": {
   "hash": "d4d1e4263499bec80672ea0156c357c1ee493ec2b1c70f0acce89fc37c4a6abe"
  },
  "kernelspec": {
   "display_name": "Python 3 (ipykernel)",
   "language": "python",
   "name": "python3"
  },
  "language_info": {
   "codemirror_mode": {
    "name": "ipython",
    "version": 3
   },
   "file_extension": ".py",
   "mimetype": "text/x-python",
   "name": "python",
   "nbconvert_exporter": "python",
   "pygments_lexer": "ipython3",
   "version": ""
  }
 },
 "nbformat": 4,
 "nbformat_minor": 4
}
